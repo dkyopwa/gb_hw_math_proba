{
 "cells": [
  {
   "cell_type": "markdown",
   "id": "b828b582",
   "metadata": {},
   "source": [
    "# Hometask 7"
   ]
  },
  {
   "cell_type": "markdown",
   "id": "c8ddeb0e",
   "metadata": {},
   "source": [
    "### Задача 1\n",
    "\n",
    "Даны значения величины заработной платы заёмщиков банка (salary) и значения их поведенческого кредитного скоринга (scoring):\n",
    "\n",
    "salary = [35, 45, 190, 200, 40, 70, 54, 150, 120, 110]\n",
    "\n",
    "scoring = [401, 574, 874, 919, 459, 739, 653, 902, 746, 832]\n",
    "\n",
    "Возьмём в качестве признака значение salary, а в качестве целевой переменной — scoring.\n",
    "\n",
    "\n",
    "Найдите коэффициенты линейной регрессии, применив формулы для парной регрессии, а затем посредством метода наименьших квадратов.\n",
    "\n",
    "Постройте scatter plot по имеющимся данным и отметьте на нём прямую линейной регрессии, полученную в п. 1.\n",
    "\n",
    "Посчитайте коэффициент детерминации, среднюю ошибку аппроксимации.\n",
    "\n",
    "Оцените построенное уравнение регрессии по F-критерию Фишера.\n",
    "\n",
    "Оцените значимость получившихся параметров уравнения регрессии и постройте для них доверительные интервалы, воспользовавшись t-статистикой Стьюдента."
   ]
  },
  {
   "cell_type": "markdown",
   "id": "77424294",
   "metadata": {},
   "source": [
    "Решение:"
   ]
  },
  {
   "cell_type": "markdown",
   "id": "766d7fee",
   "metadata": {},
   "source": [
    "Найдите коэффициенты линейной регрессии, применив формулы для парной регрессии, а затем посредством метода наименьших квадратов."
   ]
  },
  {
   "cell_type": "code",
   "execution_count": 1,
   "id": "274366f5",
   "metadata": {},
   "outputs": [],
   "source": [
    "import numpy as np\n",
    "import pandas as pd\n",
    "from matplotlib import pyplot as plt\n",
    "from scipy import stats"
   ]
  },
  {
   "cell_type": "code",
   "execution_count": 6,
   "id": "5a62c086",
   "metadata": {},
   "outputs": [],
   "source": [
    "salary = np.array([35, 45, 190, 200, 40, 70, 54, 150, 120, 110], dtype=np.float64)\n",
    "scoring = np.array([401, 574, 874, 919, 459, 739, 653, 902, 746, 832], dtype=np.float64)"
   ]
  },
  {
   "cell_type": "code",
   "execution_count": 7,
   "id": "4d5cd41f",
   "metadata": {},
   "outputs": [
    {
     "data": {
      "text/plain": [
       "2.620538882402765"
      ]
     },
     "execution_count": 7,
     "metadata": {},
     "output_type": "execute_result"
    }
   ],
   "source": [
    "b1 = (np.mean(salary * scoring) - np.mean(salary) * np.mean(scoring)) / (np.mean(salary ** 2) - np.mean(salary) ** 2)\n",
    "b1"
   ]
  },
  {
   "cell_type": "code",
   "execution_count": 8,
   "id": "8e7f54f8",
   "metadata": {},
   "outputs": [
    {
     "data": {
      "text/plain": [
       "444.1773573243596"
      ]
     },
     "execution_count": 8,
     "metadata": {},
     "output_type": "execute_result"
    }
   ],
   "source": [
    "b0 = np.mean(scoring) - b1 * np.mean(salary)\n",
    "b0"
   ]
  },
  {
   "cell_type": "markdown",
   "id": "8aff45cc",
   "metadata": {},
   "source": [
    "$$ y = 444.18 + 2.62 \\cdot x $$"
   ]
  },
  {
   "cell_type": "code",
   "execution_count": 21,
   "id": "2324b55d",
   "metadata": {},
   "outputs": [
    {
     "data": {
      "text/plain": [
       "array([[ 35.],\n",
       "       [ 45.],\n",
       "       [190.],\n",
       "       [200.],\n",
       "       [ 40.],\n",
       "       [ 70.],\n",
       "       [ 54.],\n",
       "       [150.],\n",
       "       [120.],\n",
       "       [110.]])"
      ]
     },
     "execution_count": 21,
     "metadata": {},
     "output_type": "execute_result"
    }
   ],
   "source": [
    "df = pd.DataFrame(salary, columns=['salary'])\n",
    "x2 = df[['salary']].values\n",
    "x2"
   ]
  },
  {
   "cell_type": "code",
   "execution_count": 22,
   "id": "d74e8ec5",
   "metadata": {},
   "outputs": [
    {
     "data": {
      "text/plain": [
       "((10, 2),\n",
       " array([[  1.,  35.],\n",
       "        [  1.,  45.],\n",
       "        [  1., 190.],\n",
       "        [  1., 200.],\n",
       "        [  1.,  40.],\n",
       "        [  1.,  70.],\n",
       "        [  1.,  54.],\n",
       "        [  1., 150.],\n",
       "        [  1., 120.],\n",
       "        [  1., 110.]]))"
      ]
     },
     "execution_count": 22,
     "metadata": {},
     "output_type": "execute_result"
    }
   ],
   "source": [
    "ones = np.ones((x2.shape[0], 1))\n",
    "x2 = np.hstack((ones, x2))\n",
    "x2.shape, x2"
   ]
  },
  {
   "cell_type": "code",
   "execution_count": 23,
   "id": "b1a90b11",
   "metadata": {},
   "outputs": [
    {
     "data": {
      "text/plain": [
       "array([[401.],\n",
       "       [574.],\n",
       "       [874.],\n",
       "       [919.],\n",
       "       [459.],\n",
       "       [739.],\n",
       "       [653.],\n",
       "       [902.],\n",
       "       [746.],\n",
       "       [832.]])"
      ]
     },
     "execution_count": 23,
     "metadata": {},
     "output_type": "execute_result"
    }
   ],
   "source": [
    "df = pd.DataFrame(scoring, columns=['scoring'])\n",
    "y2 = df['scoring'].values.reshape(-1, 1)\n",
    "y2"
   ]
  },
  {
   "cell_type": "code",
   "execution_count": 24,
   "id": "a4731a9a",
   "metadata": {},
   "outputs": [
    {
     "data": {
      "text/plain": [
       "349464.00000000023"
      ]
     },
     "execution_count": 24,
     "metadata": {},
     "output_type": "execute_result"
    }
   ],
   "source": [
    "XTX = x2.T.dot(x2)\n",
    "np.linalg.det(XTX)"
   ]
  },
  {
   "cell_type": "code",
   "execution_count": 25,
   "id": "f65ea11f",
   "metadata": {},
   "outputs": [
    {
     "data": {
      "text/plain": [
       "array([[444.17735732],\n",
       "       [  2.62053888]])"
      ]
     },
     "execution_count": 25,
     "metadata": {},
     "output_type": "execute_result"
    }
   ],
   "source": [
    "XTX_inv = np.linalg.inv(XTX)\n",
    "b = XTX_inv.dot(x2.T).dot(y2)\n",
    "b"
   ]
  },
  {
   "cell_type": "markdown",
   "id": "e1682ad4",
   "metadata": {},
   "source": [
    "$$ y = 444.18 + 2.62 \\cdot x $$"
   ]
  },
  {
   "cell_type": "markdown",
   "id": "fb6f1efa",
   "metadata": {},
   "source": [
    "Постройте scatter plot по имеющимся данным и отметьте на нём прямую линейной регрессии, полученную в п. 1."
   ]
  },
  {
   "cell_type": "code",
   "execution_count": 27,
   "id": "87f4ec4a",
   "metadata": {},
   "outputs": [
    {
     "data": {
      "text/plain": [
       "[<matplotlib.lines.Line2D at 0x7feeddea62b0>]"
      ]
     },
     "execution_count": 27,
     "metadata": {},
     "output_type": "execute_result"
    },
    {
     "data": {
      "image/png": "[encoded data removed]",
      "text/plain": [
       "<Figure size 432x288 with 1 Axes>"
      ]
     },
     "metadata": {
      "needs_background": "light"
     },
     "output_type": "display_data"
    }
   ],
   "source": [
    "ox = x1\n",
    "oy = b0 + b1 * ox\n",
    "plt.scatter(x1, y1)\n",
    "plt.plot(ox, oy, color='red')"
   ]
  },
  {
   "cell_type": "markdown",
   "id": "8cc573fe",
   "metadata": {},
   "source": [
    "Посчитайте коэффициент детерминации, среднюю ошибку аппроксимации."
   ]
  },
  {
   "cell_type": "code",
   "execution_count": 28,
   "id": "66353fbc",
   "metadata": {},
   "outputs": [
    {
     "name": "stdout",
     "output_type": "stream",
     "text": [
      "real scoring: [401. 574. 874. 919. 459. 739. 653. 902. 746. 832.]\n",
      "predict: [535.89621821 562.10160703 942.07974498 968.2851338  548.99891262\n",
      " 627.61507909 585.68645697 837.25818968 758.64202321 732.43663439]\n"
     ]
    }
   ],
   "source": [
    "z1 = b0 + b1 * x1\n",
    "print(f'real scoring: {y1[:10]}')\n",
    "print(f'predict: {z1[:10]}')"
   ]
  },
  {
   "cell_type": "markdown",
   "id": "f4a01756",
   "metadata": {},
   "source": [
    "Коэффициент детерминации:"
   ]
  },
  {
   "cell_type": "code",
   "execution_count": 29,
   "id": "731c65f0",
   "metadata": {},
   "outputs": [
    {
     "data": {
      "text/plain": [
       "0.7876386635293678"
      ]
     },
     "execution_count": 29,
     "metadata": {},
     "output_type": "execute_result"
    }
   ],
   "source": [
    "R1 = z1.var() / y1.var()\n",
    "R1"
   ]
  },
  {
   "cell_type": "markdown",
   "id": "ce2c173d",
   "metadata": {},
   "source": [
    "Коэффициент детерминации, равный 0.7876, означает, что ~79% дисперсии переменной $y$ учитывается или объясняется моделью. Оставшиеся ~21% обусловлены какими-то ещё факторами, которые модель не учла."
   ]
  },
  {
   "cell_type": "code",
   "execution_count": 30,
   "id": "5a3e3869",
   "metadata": {},
   "outputs": [],
   "source": [
    "def mean_approximation_error(y_real, y_pred):\n",
    "    return np.abs((y_real - y_pred) / y_real).mean()"
   ]
  },
  {
   "cell_type": "code",
   "execution_count": 31,
   "id": "1bffa4bd",
   "metadata": {},
   "outputs": [
    {
     "data": {
      "text/plain": [
       "0.11469251843561709"
      ]
     },
     "execution_count": 31,
     "metadata": {},
     "output_type": "execute_result"
    }
   ],
   "source": [
    "mean_approximation_error(y1, z1)"
   ]
  },
  {
   "cell_type": "markdown",
   "id": "ef1012ad",
   "metadata": {},
   "source": [
    "Оцените построенное уравнение регрессии по F-критерию Фишера."
   ]
  },
  {
   "cell_type": "markdown",
   "id": "9e72a5b8",
   "metadata": {},
   "source": [
    "$$ k_1 = 1 $$\n",
    "$$ k_2 = 10 - 2 = 8 $$"
   ]
  },
  {
   "cell_type": "code",
   "execution_count": 33,
   "id": "a76460be",
   "metadata": {},
   "outputs": [
    {
     "data": {
      "text/plain": [
       "29.67164085966437"
      ]
     },
     "execution_count": 33,
     "metadata": {},
     "output_type": "execute_result"
    }
   ],
   "source": [
    "k1 = 1\n",
    "k2 = 8\n",
    "T1 = (R1 / (1 - R1)) * (k2 / k1)\n",
    "T1"
   ]
  },
  {
   "cell_type": "markdown",
   "id": "a84f236b",
   "metadata": {},
   "source": [
    "$$ \\alpha = 0.05 $$\n",
    "$$ F_{crit} = F(1, 8) = 5.32 $$"
   ]
  },
  {
   "cell_type": "code",
   "execution_count": 35,
   "id": "0fbbfe61",
   "metadata": {},
   "outputs": [
    {
     "data": {
      "text/plain": [
       "5.317655071578714"
      ]
     },
     "execution_count": 35,
     "metadata": {},
     "output_type": "execute_result"
    }
   ],
   "source": [
    "alpha = 0.05\n",
    "F_crit = stats.f.ppf(1 - alpha, k1, k2)\n",
    "F_crit"
   ]
  },
  {
   "cell_type": "markdown",
   "id": "43d5d716",
   "metadata": {},
   "source": [
    "$ T > F_{crit} $, поэтому уравнение регрессии статистически значимо."
   ]
  },
  {
   "cell_type": "markdown",
   "id": "aea37693",
   "metadata": {},
   "source": [
    "Оцените значимость получившихся параметров уравнения регрессии и постройте для них доверительные интервалы, воспользовавшись t-статистикой Стьюдента."
   ]
  },
  {
   "cell_type": "code",
   "execution_count": 37,
   "id": "b54a798c",
   "metadata": {},
   "outputs": [],
   "source": [
    "def standard_error_slope(x, y, z):\n",
    "    n = x.shape[0]\n",
    "    \n",
    "    upper = ((y - z) ** 2).sum() / (n - 2)\n",
    "    lower = ((x - x.mean()) ** 2).sum()\n",
    "    \n",
    "    return np.sqrt(upper / lower)"
   ]
  },
  {
   "cell_type": "code",
   "execution_count": 38,
   "id": "bd140399",
   "metadata": {},
   "outputs": [
    {
     "data": {
      "text/plain": [
       "0.48108279568516005"
      ]
     },
     "execution_count": 38,
     "metadata": {},
     "output_type": "execute_result"
    }
   ],
   "source": [
    "s_slope = standard_error_slope(x1, y1, z1)\n",
    "s_slope"
   ]
  },
  {
   "cell_type": "markdown",
   "id": "07b5b403",
   "metadata": {},
   "source": [
    "$$ \\alpha = 0.05 $$\n",
    "$$ n = 10 $$\n",
    "$$ t_{1 - 0.05/2, 8} = 2.306 $$"
   ]
  },
  {
   "cell_type": "code",
   "execution_count": 40,
   "id": "7fd0ee98",
   "metadata": {},
   "outputs": [
    {
     "data": {
      "text/plain": [
       "5.447168150485579"
      ]
     },
     "execution_count": 40,
     "metadata": {},
     "output_type": "execute_result"
    }
   ],
   "source": [
    "T = b1 / s_slope\n",
    "T"
   ]
  },
  {
   "cell_type": "markdown",
   "id": "c336d240",
   "metadata": {},
   "source": [
    "Доверительный интервал"
   ]
  },
  {
   "cell_type": "code",
   "execution_count": 41,
   "id": "cb6ce717",
   "metadata": {},
   "outputs": [
    {
     "data": {
      "text/plain": [
       "(1.5111619555527858, 3.729915809252744)"
      ]
     },
     "execution_count": 41,
     "metadata": {},
     "output_type": "execute_result"
    }
   ],
   "source": [
    "t = 2.306\n",
    "(b1 - t * s_slope, b1 + t * s_slope)"
   ]
  },
  {
   "cell_type": "markdown",
   "id": "1911245a",
   "metadata": {},
   "source": [
    "Значение попало в ĸритичесĸую область, значит, гипотеза о равенстве нулю параметра $b_1$ отвергается."
   ]
  },
  {
   "cell_type": "code",
   "execution_count": 42,
   "id": "4d96f009",
   "metadata": {},
   "outputs": [],
   "source": [
    "def standard_error_intercept(x, y, z):\n",
    "    return standard_error_slope(x, y, z) * np.sqrt((x ** 2).mean())"
   ]
  },
  {
   "cell_type": "code",
   "execution_count": 43,
   "id": "2f895978",
   "metadata": {},
   "outputs": [
    {
     "data": {
      "text/plain": [
       "56.46649755068153"
      ]
     },
     "execution_count": 43,
     "metadata": {},
     "output_type": "execute_result"
    }
   ],
   "source": [
    "s_intercept = standard_error_intercept(x1, y1, z1)\n",
    "s_intercept"
   ]
  },
  {
   "cell_type": "code",
   "execution_count": 44,
   "id": "6c45fe5f",
   "metadata": {},
   "outputs": [
    {
     "data": {
      "text/plain": [
       "7.866210524668863"
      ]
     },
     "execution_count": 44,
     "metadata": {},
     "output_type": "execute_result"
    }
   ],
   "source": [
    "T = b0 / s_intercept\n",
    "T"
   ]
  },
  {
   "cell_type": "code",
   "execution_count": 46,
   "id": "8c966374",
   "metadata": {},
   "outputs": [
    {
     "data": {
      "text/plain": [
       "(313.965613972488, 574.3891006762312)"
      ]
     },
     "execution_count": 46,
     "metadata": {},
     "output_type": "execute_result"
    }
   ],
   "source": [
    "(b0 - t * s_intercept, b0 + t * s_intercept)"
   ]
  },
  {
   "cell_type": "markdown",
   "id": "bb5ab807",
   "metadata": {},
   "source": [
    "Значение попало в ĸритичесĸую область, значит, значение параметра $b_0$ является значимым."
   ]
  },
  {
   "cell_type": "markdown",
   "id": "1744a50e",
   "metadata": {},
   "source": [
    "### Задача 2\n",
    "\n",
    "В каких случаях для вычисления доверительных интервалов и проверки статистических гипотез используется таблица значений функции Лапласа, а когда — таблица квантилей распределения Стьюдента?"
   ]
  },
  {
   "cell_type": "markdown",
   "id": "d9b660cb",
   "metadata": {},
   "source": [
    "Решение:"
   ]
  },
  {
   "cell_type": "markdown",
   "id": "6c943239",
   "metadata": {},
   "source": [
    "При известном стандартном отклонении  генеральной совокупности $\\sigma$ и при больших $n$ при определении доверительных интервалов используется формула точности оценки $\\delta = t_{y}\\dfrac{\\sigma}{\\sqrt{n}}$, где $t_{y}$ находится исходя из функции Лапласа $\\Phi(x)$."
   ]
  },
  {
   "cell_type": "markdown",
   "id": "3d0447a6",
   "metadata": {},
   "source": [
    "При малых $n < 50$, в формулу $\\delta = t_{y}\\dfrac{s}{\\sqrt{n}}$,где $s$ -  исправленное среднее квадратическое отклонение, \"$t_{y}$ находится с помощью распределения Стьюдента"
   ]
  }
 ],
 "metadata": {
  "kernelspec": {
   "display_name": "Python 3 (ipykernel)",
   "language": "python",
   "name": "python3"
  },
  "language_info": {
   "codemirror_mode": {
    "name": "ipython",
    "version": 3
   },
   "file_extension": ".py",
   "mimetype": "text/x-python",
   "name": "python",
   "nbconvert_exporter": "python",
   "pygments_lexer": "ipython3",
   "version": "3.9.7"
  }
 },
 "nbformat": 4,
 "nbformat_minor": 5
}
