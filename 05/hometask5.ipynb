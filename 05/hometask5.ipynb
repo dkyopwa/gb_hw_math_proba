{
 "cells": [
  {
   "cell_type": "markdown",
   "id": "26e0df45",
   "metadata": {},
   "source": [
    "# Hometask 5"
   ]
  },
  {
   "cell_type": "markdown",
   "id": "fb381776",
   "metadata": {},
   "source": [
    "### Задача 1\n",
    "\n",
    "Утверждается, что шарики для подшипников, изготовленные автоматическим станком, имеют средний диаметр — 17 мм. Используя уровень значимости 0.025 и правостороннюю критическую область, проверьте эту гипотезу при условии, что в выборке из 100 шариков средний диаметр оказался равным 17.5 мм, а дисперсия известна и равна 4 мм."
   ]
  },
  {
   "cell_type": "markdown",
   "id": "1e25fd1a",
   "metadata": {},
   "source": [
    "Решение:"
   ]
  },
  {
   "cell_type": "code",
   "execution_count": 1,
   "id": "b1113b08",
   "metadata": {},
   "outputs": [],
   "source": [
    "d = 17 # M(X)\n",
    "alpha = 0.025 # a\n",
    "n = 100 # n\n",
    "d_mid = 17.5 # M(X) \n",
    "sigma = 4 # D(X)"
   ]
  },
  {
   "cell_type": "markdown",
   "id": "5c0b2359",
   "metadata": {},
   "source": [
    "Гипотеза $H_0$: $M(X) = 17$\n",
    "\n",
    "Гипотеза $H_1$: $M(X) = 17.5$"
   ]
  },
  {
   "cell_type": "markdown",
   "id": "11aad280",
   "metadata": {},
   "source": [
    "Уровень значимости $\\alpha = 0.025$ при правосторонней критической области $\\Omega_{\\alpha} = (t_{1 - \\alpha}, \\infty)$"
   ]
  },
  {
   "cell_type": "markdown",
   "id": "d1184ee9",
   "metadata": {},
   "source": [
    "Центральная предельная теорема:\n",
    "\n",
    "$$a = M(X), \\text{ } \\sigma = \\sqrt {\\frac{D(X)}{n}}$$"
   ]
  },
  {
   "cell_type": "markdown",
   "id": "df45cc86",
   "metadata": {},
   "source": [
    "Т.к. распределение нормальное, то можно применить правло двух сигм (95%)"
   ]
  },
  {
   "cell_type": "markdown",
   "id": "65f0de42",
   "metadata": {},
   "source": [
    "$$\\left( 17 - 2 \\cdot \\sqrt{\\frac{D(X)}{n}}, 17 + 2 \\cdot \\sqrt{\\frac{D(X)}{n}} \\right)$$"
   ]
  },
  {
   "cell_type": "code",
   "execution_count": 5,
   "id": "55db2b05",
   "metadata": {},
   "outputs": [
    {
     "data": {
      "text/plain": [
       "17.4"
      ]
     },
     "execution_count": 5,
     "metadata": {},
     "output_type": "execute_result"
    }
   ],
   "source": [
    "d + 2 * (sigma / n) ** 0.5"
   ]
  },
  {
   "cell_type": "markdown",
   "id": "7397ef18",
   "metadata": {},
   "source": [
    "Правосторонняя критическая область $( 17.4, \\infty )$"
   ]
  },
  {
   "cell_type": "markdown",
   "id": "9c9b4343",
   "metadata": {},
   "source": [
    "Средний диаметр 17,5 попадает в критическую область. Значит верна гипотеза $H_1$"
   ]
  },
  {
   "cell_type": "markdown",
   "id": "245250cd",
   "metadata": {},
   "source": [
    "### Задача 2\n",
    "\n",
    "Известно, что генеральная совокупность распределена нормально с известным средним квадратическим отклонением — 16. Найдите доверительный интервал для оценки математического ожидания с надёжностью 0.95, если выборочное среднее равно 80, а объём равен 256."
   ]
  },
  {
   "cell_type": "markdown",
   "id": "36d08a72",
   "metadata": {},
   "source": [
    "Решение:"
   ]
  },
  {
   "cell_type": "code",
   "execution_count": 14,
   "id": "7f5cc58d",
   "metadata": {},
   "outputs": [],
   "source": [
    "std = 16\n",
    "reliability = 0.95\n",
    "n = 256\n",
    "m = 80"
   ]
  },
  {
   "cell_type": "markdown",
   "id": "e6c0652c",
   "metadata": {},
   "source": [
    "Квантиль t-распределения $(t_{1 - \\alpha/2, \\: n - 1})$"
   ]
  },
  {
   "cell_type": "code",
   "execution_count": 15,
   "id": "17d5acd3",
   "metadata": {},
   "outputs": [],
   "source": [
    "from scipy import stats"
   ]
  },
  {
   "cell_type": "code",
   "execution_count": 19,
   "id": "d612d665",
   "metadata": {},
   "outputs": [
    {
     "data": {
      "text/plain": [
       "1.9693105698491928"
      ]
     },
     "execution_count": 19,
     "metadata": {},
     "output_type": "execute_result"
    }
   ],
   "source": [
    "# n - 1\n",
    "t_n1 = stats.t(n - 1)\n",
    "# 1 - alpha / 2\n",
    "t = t_n1.ppf(1 - (1 - reliability) / 2)\n",
    "t"
   ]
  },
  {
   "cell_type": "markdown",
   "id": "3f29d00b",
   "metadata": {},
   "source": [
    "$$P \\left( \\overline{X} - t_{1 - \\alpha/2, \\: n - 1} \\cdot \\dfrac{S}{\\sqrt{n}} \\leq M(X) \\leq \\overline{X} + t_{1 - \\alpha/2, \\: n - 1} \\cdot \\dfrac{S}{\\sqrt{n}} \\right) = 1 - \\alpha$$"
   ]
  },
  {
   "cell_type": "code",
   "execution_count": 21,
   "id": "f860b18e",
   "metadata": {},
   "outputs": [
    {
     "data": {
      "text/plain": [
       "(78.0306894301508, 81.9693105698492)"
      ]
     },
     "execution_count": 21,
     "metadata": {},
     "output_type": "execute_result"
    }
   ],
   "source": [
    "(m - t * std / n ** 0.5, m + t * std / n ** 0.5)"
   ]
  },
  {
   "cell_type": "markdown",
   "id": "eda4151b",
   "metadata": {},
   "source": [
    "### Задача 3\n",
    "\n",
    "Продавец утверждает, что средний вес пачки печенья составляет 200 г. Из партии извлечена выборка из 10 пачек. Вес каждой пачки составляет:\n",
    "202, 203, 199, 197, 195, 201, 200, 204, 194, 190\n",
    "Известно, что их веса распределены нормально. Верно ли утверждение продавца, если учитывать, что уровень значимости равен 1%?"
   ]
  },
  {
   "cell_type": "markdown",
   "id": "43b478d9",
   "metadata": {},
   "source": [
    "Решение:"
   ]
  },
  {
   "cell_type": "code",
   "execution_count": 23,
   "id": "1e9b6d14",
   "metadata": {},
   "outputs": [],
   "source": [
    "import numpy as np"
   ]
  },
  {
   "cell_type": "code",
   "execution_count": 24,
   "id": "de03161d",
   "metadata": {},
   "outputs": [],
   "source": [
    "n = 10\n",
    "alpha = 0.01\n",
    "weight = 200\n",
    "data = np.array([202, 203, 199, 197, 195, 201, 200, 204, 194, 190])"
   ]
  },
  {
   "cell_type": "markdown",
   "id": "93f704b6",
   "metadata": {},
   "source": [
    "$$P \\left( \\overline{X} - t_{1 - \\alpha/2, \\: n - 1} \\cdot \\dfrac{S}{\\sqrt{n}} \\leq M(X) \\leq \\overline{X} + t_{1 - \\alpha/2, \\: n - 1} \\cdot \\dfrac{S}{\\sqrt{n}} \\right) = 1 - \\alpha$$"
   ]
  },
  {
   "cell_type": "code",
   "execution_count": 26,
   "id": "842c2e16",
   "metadata": {},
   "outputs": [
    {
     "data": {
      "text/plain": [
       "198.5"
      ]
     },
     "execution_count": 26,
     "metadata": {},
     "output_type": "execute_result"
    }
   ],
   "source": [
    "mean = data.mean()\n",
    "mean"
   ]
  },
  {
   "cell_type": "code",
   "execution_count": 27,
   "id": "c98bca5c",
   "metadata": {},
   "outputs": [
    {
     "data": {
      "text/plain": [
       "4.453463071962462"
      ]
     },
     "execution_count": 27,
     "metadata": {},
     "output_type": "execute_result"
    }
   ],
   "source": [
    "std = data.std(ddof=1)\n",
    "std"
   ]
  },
  {
   "cell_type": "code",
   "execution_count": 28,
   "id": "6ec2695a",
   "metadata": {},
   "outputs": [
    {
     "data": {
      "text/plain": [
       "3.2498355440153697"
      ]
     },
     "execution_count": 28,
     "metadata": {},
     "output_type": "execute_result"
    }
   ],
   "source": [
    "# n - 1\n",
    "t_n1 = stats.t(n - 1)\n",
    "# 1 - alpha / 2\n",
    "t = t_n1.ppf(1 - alpha / 2)\n",
    "t"
   ]
  },
  {
   "cell_type": "code",
   "execution_count": 30,
   "id": "3cadafb9",
   "metadata": {},
   "outputs": [
    {
     "data": {
      "text/plain": [
       "(193.92322840036354, 203.07677159963646)"
      ]
     },
     "execution_count": 30,
     "metadata": {},
     "output_type": "execute_result"
    }
   ],
   "source": [
    "(mean - t * std / n ** 0.5, mean + t * std / n ** 0.5)"
   ]
  },
  {
   "cell_type": "markdown",
   "id": "dff57517",
   "metadata": {},
   "source": [
    "Средний вес попадает в доверительный интервал, значит утверждение продавца верно."
   ]
  }
 ],
 "metadata": {
  "kernelspec": {
   "display_name": "Python 3 (ipykernel)",
   "language": "python",
   "name": "python3"
  },
  "language_info": {
   "codemirror_mode": {
    "name": "ipython",
    "version": 3
   },
   "file_extension": ".py",
   "mimetype": "text/x-python",
   "name": "python",
   "nbconvert_exporter": "python",
   "pygments_lexer": "ipython3",
   "version": "3.9.7"
  }
 },
 "nbformat": 4,
 "nbformat_minor": 5
}
