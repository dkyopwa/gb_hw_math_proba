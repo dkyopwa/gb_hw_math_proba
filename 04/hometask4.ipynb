{
 "cells": [
  {
   "cell_type": "markdown",
   "id": "e0738bc5",
   "metadata": {},
   "source": [
    "# Hometask 4"
   ]
  },
  {
   "cell_type": "markdown",
   "id": "b58823eb",
   "metadata": {},
   "source": [
    "### Задача 1\n",
    "\n",
    "О непрерывной равномерно распределённой случайной величине B известно, что её дисперсия равна 0.2. Можно ли найти правую границу величины B и её среднее значение, зная, что левая граница равна 0.5? Если да, найдите её."
   ]
  },
  {
   "cell_type": "markdown",
   "id": "d5a3e1e3",
   "metadata": {},
   "source": [
    "Решение:"
   ]
  },
  {
   "cell_type": "markdown",
   "id": "8ab136ab",
   "metadata": {},
   "source": [
    "$$D(X) = \\frac{(b - a)^2}{12}$$"
   ]
  },
  {
   "cell_type": "markdown",
   "id": "9a5fbb3d",
   "metadata": {},
   "source": [
    "Тогда:"
   ]
  },
  {
   "cell_type": "markdown",
   "id": "d6f1ec82",
   "metadata": {},
   "source": [
    "$$D(X) = \\frac{a^2 - 2ab + b^2}{12}$$\n",
    "\n",
    "$$a^2 - 2ab + b^2 = \\frac{1}{12 \\cdot D(X)}$$\n",
    "\n",
    "$$-2ab + b^2 = \\frac{1}{12 \\cdot D(X)} - a^2$$"
   ]
  },
  {
   "cell_type": "markdown",
   "id": "d4c85e25",
   "metadata": {},
   "source": [
    "$$-2b \\cdot 0.5 + b^2 = \\frac{1}{12 \\cdot 0.2} - 0.5^2$$\n",
    "\n",
    "$$-b + b^2 = \\frac{1}{2.4} - 0.25 = 0,166666667$$"
   ]
  },
  {
   "cell_type": "markdown",
   "id": "90096449",
   "metadata": {},
   "source": [
    "Не катит. Попробуем по другому:"
   ]
  },
  {
   "cell_type": "markdown",
   "id": "4275bcfb",
   "metadata": {},
   "source": [
    "$$12 \\cdot D(X) = (b - a)^2$$\n",
    "\n",
    "$$\\sqrt{12 \\cdot D(X)} = (b - a)$$\n",
    "\n",
    "$$\\sqrt{12 \\cdot D(X)} - b = -a$$"
   ]
  },
  {
   "cell_type": "code",
   "execution_count": 7,
   "id": "9a3d900f",
   "metadata": {},
   "outputs": [
    {
     "data": {
      "text/plain": [
       "-1.0491933384829668"
      ]
     },
     "execution_count": 7,
     "metadata": {},
     "output_type": "execute_result"
    }
   ],
   "source": [
    "b = 0.5\n",
    "d = 0.2\n",
    "\n",
    "a = ((12 * d) ** 0.5 - b) * (-1)\n",
    "a"
   ]
  },
  {
   "cell_type": "markdown",
   "id": "fce04a1f",
   "metadata": {},
   "source": [
    "Проверка:"
   ]
  },
  {
   "cell_type": "code",
   "execution_count": 8,
   "id": "202df47c",
   "metadata": {},
   "outputs": [
    {
     "data": {
      "text/plain": [
       "0.20000000000000004"
      ]
     },
     "execution_count": 8,
     "metadata": {},
     "output_type": "execute_result"
    }
   ],
   "source": [
    "d2 = (b - a) ** 2 / 12\n",
    "d2"
   ]
  },
  {
   "cell_type": "markdown",
   "id": "a43541cb",
   "metadata": {},
   "source": [
    "Сходится."
   ]
  },
  {
   "cell_type": "markdown",
   "id": "1a32be4d",
   "metadata": {},
   "source": [
    "$$M(X) = \\frac{a + b}{2}$$"
   ]
  },
  {
   "cell_type": "code",
   "execution_count": 10,
   "id": "40c5ae87",
   "metadata": {},
   "outputs": [
    {
     "data": {
      "text/plain": [
       "-0.2745966692414834"
      ]
     },
     "execution_count": 10,
     "metadata": {},
     "output_type": "execute_result"
    }
   ],
   "source": [
    "m = (a + b) / 2\n",
    "m"
   ]
  },
  {
   "cell_type": "markdown",
   "id": "2eb17b75",
   "metadata": {},
   "source": [
    "### Задача 2\n",
    "\n",
    "На сколько сигм (средних квадратических отклонений) отклоняется рост человека, равный 190 см, от математического ожидания роста в популяции, где M(X) = 178 и D(X) = 25?"
   ]
  },
  {
   "cell_type": "markdown",
   "id": "fe5a7d34",
   "metadata": {},
   "source": [
    "Решение:"
   ]
  },
  {
   "cell_type": "markdown",
   "id": "3a63fd19",
   "metadata": {},
   "source": [
    "$$a = M(X), \\; \\sigma^2 = D(X).$$"
   ]
  },
  {
   "cell_type": "code",
   "execution_count": 12,
   "id": "b0a4d696",
   "metadata": {},
   "outputs": [],
   "source": [
    "m = 178\n",
    "d = 25\n",
    "x = 190"
   ]
  },
  {
   "cell_type": "code",
   "execution_count": 13,
   "id": "f4bff5ff",
   "metadata": {},
   "outputs": [
    {
     "data": {
      "text/plain": [
       "5.0"
      ]
     },
     "execution_count": 13,
     "metadata": {},
     "output_type": "execute_result"
    }
   ],
   "source": [
    "sigma = d ** 0.5\n",
    "sigma"
   ]
  },
  {
   "cell_type": "code",
   "execution_count": 14,
   "id": "13b045e1",
   "metadata": {},
   "outputs": [
    {
     "data": {
      "text/plain": [
       "2.4"
      ]
     },
     "execution_count": 14,
     "metadata": {},
     "output_type": "execute_result"
    }
   ],
   "source": [
    "c = abs(x - m) / sigma\n",
    "c"
   ]
  },
  {
   "cell_type": "markdown",
   "id": "d3c89e3a",
   "metadata": {},
   "source": [
    "### Задача 3\n",
    "\n",
    "Рост взрослого населения города X имеет нормальное распределение, причём средний рост равен 174 см, а среднее квадратическое отклонение равно 8 см. Без использования сторонних библиотек — numpy, scipy, pandas и прочих — посчитайте, какова вероятность, что случайным образом выбранный взрослый человек имеет рост:\n",
    "\n",
    "Больше 182 см.\n",
    "\n",
    "Больше 190 см.\n",
    "\n",
    "От 166 см до 190 см.\n",
    "\n",
    "От 166 см до 182 см.\n",
    "\n",
    "От 158 см до 190 см.\n",
    "\n",
    "Не выше 150 см или не ниже 190 см.\n",
    "\n",
    "Не выше 150 см или не ниже 198 см.\n",
    "\n",
    "Ниже 166 см?"
   ]
  },
  {
   "cell_type": "markdown",
   "id": "3b9fac25",
   "metadata": {},
   "source": [
    "Решение:"
   ]
  },
  {
   "cell_type": "markdown",
   "id": "9e1d6007",
   "metadata": {},
   "source": [
    "Нормальное распределение:\n",
    "\n",
    "$$f(x) = \\frac{1}{\\sigma \\sqrt{2 \\pi}} e ^ {- \\frac{(x - a)^2}{2 \\sigma^2}},$$"
   ]
  },
  {
   "cell_type": "code",
   "execution_count": 16,
   "id": "672c3ded",
   "metadata": {},
   "outputs": [],
   "source": [
    "sigma = 8\n",
    "mid = 174"
   ]
  },
  {
   "cell_type": "code",
   "execution_count": 19,
   "id": "d3e89825",
   "metadata": {},
   "outputs": [],
   "source": [
    "def calc_sigma(x):\n",
    "    return abs(x - mid) / sigma"
   ]
  },
  {
   "cell_type": "markdown",
   "id": "a741ef3b",
   "metadata": {},
   "source": [
    "Больше 182 см."
   ]
  },
  {
   "cell_type": "code",
   "execution_count": 20,
   "id": "05b4d40d",
   "metadata": {},
   "outputs": [
    {
     "data": {
      "text/plain": [
       "1.0"
      ]
     },
     "execution_count": 20,
     "metadata": {},
     "output_type": "execute_result"
    }
   ],
   "source": [
    "x1 = calc_sigma(182)\n",
    "x1"
   ]
  },
  {
   "cell_type": "markdown",
   "id": "ab0bc7bf",
   "metadata": {},
   "source": [
    "1 sigma значит вероятность 100 - 68 = 32%"
   ]
  },
  {
   "cell_type": "markdown",
   "id": "98f85e2a",
   "metadata": {},
   "source": [
    "Больше 190 см."
   ]
  },
  {
   "cell_type": "code",
   "execution_count": 21,
   "id": "55deca20",
   "metadata": {},
   "outputs": [
    {
     "data": {
      "text/plain": [
       "2.0"
      ]
     },
     "execution_count": 21,
     "metadata": {},
     "output_type": "execute_result"
    }
   ],
   "source": [
    "x2 = calc_sigma(190)\n",
    "x2"
   ]
  },
  {
   "cell_type": "markdown",
   "id": "37c37b94",
   "metadata": {},
   "source": [
    "2 sigma значит вероятность 100 - 95,4 = 4,6%"
   ]
  },
  {
   "cell_type": "markdown",
   "id": "d148d713",
   "metadata": {},
   "source": [
    "От 166 см до 190 см."
   ]
  },
  {
   "cell_type": "code",
   "execution_count": 22,
   "id": "47bb993c",
   "metadata": {},
   "outputs": [
    {
     "data": {
      "text/plain": [
       "(1.0, 2.0)"
      ]
     },
     "execution_count": 22,
     "metadata": {},
     "output_type": "execute_result"
    }
   ],
   "source": [
    "x3 = calc_sigma(166)\n",
    "x4 = calc_sigma(190)\n",
    "x3, x4"
   ]
  },
  {
   "cell_type": "code",
   "execution_count": 23,
   "id": "d2a31a24",
   "metadata": {},
   "outputs": [
    {
     "data": {
      "text/plain": [
       "81.7"
      ]
     },
     "execution_count": 23,
     "metadata": {},
     "output_type": "execute_result"
    }
   ],
   "source": [
    "y3_4 = 68 / 2 + 95.4 / 2\n",
    "y3_4"
   ]
  },
  {
   "cell_type": "markdown",
   "id": "b8be00cc",
   "metadata": {},
   "source": [
    "От 166 см до 182 см."
   ]
  },
  {
   "cell_type": "code",
   "execution_count": 24,
   "id": "dba5f954",
   "metadata": {},
   "outputs": [
    {
     "data": {
      "text/plain": [
       "(1.0, 1.0)"
      ]
     },
     "execution_count": 24,
     "metadata": {},
     "output_type": "execute_result"
    }
   ],
   "source": [
    "x5 = calc_sigma(166)\n",
    "x6 = calc_sigma(182)\n",
    "x5, x6"
   ]
  },
  {
   "cell_type": "markdown",
   "id": "d9132ee2",
   "metadata": {},
   "source": [
    "Т.к. всё по единице, то 68%"
   ]
  },
  {
   "cell_type": "markdown",
   "id": "631ad97d",
   "metadata": {},
   "source": [
    "От 158 см до 190 см."
   ]
  },
  {
   "cell_type": "code",
   "execution_count": 26,
   "id": "7037e463",
   "metadata": {},
   "outputs": [
    {
     "data": {
      "text/plain": [
       "(2.0, 2.0)"
      ]
     },
     "execution_count": 26,
     "metadata": {},
     "output_type": "execute_result"
    }
   ],
   "source": [
    "x7 = calc_sigma(158)\n",
    "x8 = calc_sigma(190)\n",
    "x7, x8"
   ]
  },
  {
   "cell_type": "markdown",
   "id": "081e42c8",
   "metadata": {},
   "source": [
    "Т.к. всё по двойке, то 95,4%"
   ]
  },
  {
   "cell_type": "markdown",
   "id": "aa323aad",
   "metadata": {},
   "source": [
    "Не выше 150 см или не ниже 190 см."
   ]
  },
  {
   "cell_type": "code",
   "execution_count": 28,
   "id": "e76c618a",
   "metadata": {},
   "outputs": [
    {
     "data": {
      "text/plain": [
       "(3.0, 2.0)"
      ]
     },
     "execution_count": 28,
     "metadata": {},
     "output_type": "execute_result"
    }
   ],
   "source": [
    "x9 = calc_sigma(150)\n",
    "x10 = calc_sigma(190)\n",
    "x9, x10"
   ]
  },
  {
   "cell_type": "code",
   "execution_count": 33,
   "id": "e3efa311",
   "metadata": {},
   "outputs": [
    {
     "data": {
      "text/plain": [
       "2.4399999999999977"
      ]
     },
     "execution_count": 33,
     "metadata": {},
     "output_type": "execute_result"
    }
   ],
   "source": [
    "y9_10 = (50 - 99.72 / 2) + (50 - 95.4 / 2)\n",
    "y9_10"
   ]
  },
  {
   "cell_type": "markdown",
   "id": "f14ac5b8",
   "metadata": {},
   "source": [
    "Не выше 150 см или не ниже 198 см."
   ]
  },
  {
   "cell_type": "code",
   "execution_count": 34,
   "id": "fb326f71",
   "metadata": {},
   "outputs": [
    {
     "data": {
      "text/plain": [
       "(3.0, 3.0)"
      ]
     },
     "execution_count": 34,
     "metadata": {},
     "output_type": "execute_result"
    }
   ],
   "source": [
    "x11 = calc_sigma(150)\n",
    "x12 = calc_sigma(198)\n",
    "x11, x12"
   ]
  },
  {
   "cell_type": "code",
   "execution_count": 36,
   "id": "56e0628e",
   "metadata": {},
   "outputs": [
    {
     "data": {
      "text/plain": [
       "0.28000000000000114"
      ]
     },
     "execution_count": 36,
     "metadata": {},
     "output_type": "execute_result"
    }
   ],
   "source": [
    "y11_12 = 100 - 99.72\n",
    "y11_12"
   ]
  },
  {
   "cell_type": "markdown",
   "id": "082a690d",
   "metadata": {},
   "source": [
    "Ниже 166 см"
   ]
  },
  {
   "cell_type": "code",
   "execution_count": 37,
   "id": "f9cf21d0",
   "metadata": {},
   "outputs": [
    {
     "data": {
      "text/plain": [
       "1.0"
      ]
     },
     "execution_count": 37,
     "metadata": {},
     "output_type": "execute_result"
    }
   ],
   "source": [
    "x13 = calc_sigma(166)\n",
    "x13"
   ]
  },
  {
   "cell_type": "code",
   "execution_count": 39,
   "id": "d0528061",
   "metadata": {},
   "outputs": [
    {
     "data": {
      "text/plain": [
       "32"
      ]
     },
     "execution_count": 39,
     "metadata": {},
     "output_type": "execute_result"
    }
   ],
   "source": [
    "y13 = 100 - 68\n",
    "y13"
   ]
  }
 ],
 "metadata": {
  "kernelspec": {
   "display_name": "Python 3 (ipykernel)",
   "language": "python",
   "name": "python3"
  },
  "language_info": {
   "codemirror_mode": {
    "name": "ipython",
    "version": 3
   },
   "file_extension": ".py",
   "mimetype": "text/x-python",
   "name": "python",
   "nbconvert_exporter": "python",
   "pygments_lexer": "ipython3",
   "version": "3.9.7"
  }
 },
 "nbformat": 4,
 "nbformat_minor": 5
}
