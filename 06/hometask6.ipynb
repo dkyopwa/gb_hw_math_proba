{
 "cells": [
  {
   "cell_type": "markdown",
   "id": "1e067b15",
   "metadata": {},
   "source": [
    "# Hometask 6"
   ]
  },
  {
   "cell_type": "markdown",
   "id": "bf6f7a28",
   "metadata": {},
   "source": [
    "### Задача 1\n",
    "\n",
    "Даны значения величины заработной платы заёмщиков банка (salary) и значения их поведенческого кредитного скоринга (scoring):\n",
    "\n",
    "salary = [35, 45, 190, 200, 40, 70, 54, 150, 120, 110]\n",
    "\n",
    "scoring = [401, 574, 874, 919, 459, 739, 653, 902, 746, 832]\n",
    "\n",
    "Найдите ковариацию этих двух величин: сначала без использования специальных функций, а затем с применением функции numpy.cov. Полученные значения должны быть равны.\n",
    "\n",
    "Найдите коэффициент корреляции Пирсона: посредством ковариации и средних квадратических отклонений двух признаков, а затем применив специальные функции из библиотек numpy и pandas."
   ]
  },
  {
   "cell_type": "markdown",
   "id": "e1eaf581",
   "metadata": {},
   "source": [
    "Решение:"
   ]
  },
  {
   "cell_type": "code",
   "execution_count": 1,
   "id": "ac5fe939",
   "metadata": {},
   "outputs": [],
   "source": [
    "import pandas as pd\n",
    "import numpy as np"
   ]
  },
  {
   "cell_type": "code",
   "execution_count": 2,
   "id": "6a3187c0",
   "metadata": {},
   "outputs": [],
   "source": [
    "salary = np.array([35, 45, 190, 200, 40, 70, 54, 150, 120, 110])\n",
    "scoring = np.array([401, 574, 874, 919, 459, 739, 653, 902, 746, 832])"
   ]
  },
  {
   "cell_type": "code",
   "execution_count": 15,
   "id": "8f014fdc",
   "metadata": {},
   "outputs": [
    {
     "data": {
      "text/plain": [
       "(101.4, 709.9, 81141.7)"
      ]
     },
     "execution_count": 15,
     "metadata": {},
     "output_type": "execute_result"
    }
   ],
   "source": [
    "m_x = salary.mean()\n",
    "m_y = scoring.mean()\n",
    "m_xy = (salary * scoring).mean()\n",
    "m_x, m_y, m_xy"
   ]
  },
  {
   "cell_type": "code",
   "execution_count": 16,
   "id": "01a1ec9e",
   "metadata": {},
   "outputs": [
    {
     "data": {
      "text/plain": [
       "9157.839999999997"
      ]
     },
     "execution_count": 16,
     "metadata": {},
     "output_type": "execute_result"
    }
   ],
   "source": [
    "cov1 = m_xy - m_x * m_y\n",
    "cov1"
   ]
  },
  {
   "cell_type": "code",
   "execution_count": 7,
   "id": "be47d73f",
   "metadata": {},
   "outputs": [
    {
     "data": {
      "text/plain": [
       "array([[ 3494.64,  9157.84],\n",
       "       [ 9157.84, 30468.89]])"
      ]
     },
     "execution_count": 7,
     "metadata": {},
     "output_type": "execute_result"
    }
   ],
   "source": [
    "cov2 = np.cov(salary, scoring, ddof=0)\n",
    "cov2"
   ]
  },
  {
   "cell_type": "code",
   "execution_count": 8,
   "id": "6db34c3e",
   "metadata": {},
   "outputs": [
    {
     "data": {
      "text/plain": [
       "(9157.839999999997, 9157.84)"
      ]
     },
     "execution_count": 8,
     "metadata": {},
     "output_type": "execute_result"
    }
   ],
   "source": [
    "cov1, cov2[1][0]"
   ]
  },
  {
   "cell_type": "markdown",
   "id": "b115efe1",
   "metadata": {},
   "source": [
    "Найдите коэффициент корреляции Пирсона: посредством ковариации и средних квадратических отклонений двух признаков, а затем применив специальные функции из библиотек numpy и pandas."
   ]
  },
  {
   "cell_type": "code",
   "execution_count": 17,
   "id": "8ab2da15",
   "metadata": {},
   "outputs": [
    {
     "data": {
      "text/plain": [
       "(59.115480206118605, 174.55340157098058)"
      ]
     },
     "execution_count": 17,
     "metadata": {},
     "output_type": "execute_result"
    }
   ],
   "source": [
    "std_x = salary.std()\n",
    "std_y = scoring.std()\n",
    "std_x, std_y"
   ]
  },
  {
   "cell_type": "code",
   "execution_count": 18,
   "id": "b956e811",
   "metadata": {},
   "outputs": [
    {
     "data": {
      "text/plain": [
       "0.8874900920739158"
      ]
     },
     "execution_count": 18,
     "metadata": {},
     "output_type": "execute_result"
    }
   ],
   "source": [
    "corr1 = cov1 / (std_x * std_y)\n",
    "corr1"
   ]
  },
  {
   "cell_type": "code",
   "execution_count": 19,
   "id": "f4e6a645",
   "metadata": {},
   "outputs": [
    {
     "data": {
      "text/plain": [
       "array([[1.        , 0.88749009],\n",
       "       [0.88749009, 1.        ]])"
      ]
     },
     "execution_count": 19,
     "metadata": {},
     "output_type": "execute_result"
    }
   ],
   "source": [
    "corr2 = np.corrcoef(salary, scoring)\n",
    "corr2"
   ]
  },
  {
   "cell_type": "code",
   "execution_count": 20,
   "id": "a0b9b6a9",
   "metadata": {},
   "outputs": [
    {
     "data": {
      "text/plain": [
       "(0.8874900920739158, 0.8874900920739162)"
      ]
     },
     "execution_count": 20,
     "metadata": {},
     "output_type": "execute_result"
    }
   ],
   "source": [
    "corr1, corr2[1][0]"
   ]
  },
  {
   "cell_type": "markdown",
   "id": "0d63ce08",
   "metadata": {},
   "source": [
    "### Задача 2\n",
    "\n",
    "Измерены значения IQ выборки студентов, обучающихся в местных технических вузах:\n",
    "\n",
    "131, 125, 115, 122, 131, 115, 107, 99, 125, 111\n",
    "\n",
    "Известно, что в генеральной совокупности IQ распределён нормально. Найдите доверительный интервал для математического ожидания с надёжностью 0.95."
   ]
  },
  {
   "cell_type": "markdown",
   "id": "09671777",
   "metadata": {},
   "source": [
    "Решение:"
   ]
  },
  {
   "cell_type": "code",
   "execution_count": 21,
   "id": "8d5ecd4b",
   "metadata": {},
   "outputs": [
    {
     "data": {
      "text/plain": [
       "(118.1, 10.54566788359614, 3.3348329959851224)"
      ]
     },
     "execution_count": 21,
     "metadata": {},
     "output_type": "execute_result"
    }
   ],
   "source": [
    "x = np.array([131.0, 125.0, 115.0, 122.0, 131.0, 115.0, 107.0, 99.0, 125.0, 111.0])\n",
    "mean_x = x.mean()\n",
    "std_x = x.std(ddof=1)\n",
    "mean_std_x = std_x / (np.sqrt(len(x)))\n",
    "mean_x, std_x, mean_std_x"
   ]
  },
  {
   "cell_type": "code",
   "execution_count": 25,
   "id": "99d80a1a",
   "metadata": {},
   "outputs": [
    {
     "data": {
      "text/plain": [
       "(110.55608365158724, 125.64391634841274)"
      ]
     },
     "execution_count": 25,
     "metadata": {},
     "output_type": "execute_result"
    }
   ],
   "source": [
    "from statsmodels.stats.weightstats import _tconfint_generic as t_stat\n",
    "\n",
    "t_stat(mean_x, mean_std_x,len(x) - 1, 0.05, 'two-sided')"
   ]
  },
  {
   "cell_type": "markdown",
   "id": "5aecb259",
   "metadata": {},
   "source": [
    "### Задача 3\n",
    "\n",
    "Известно, что рост футболистов в сборной распределён нормально с известной дисперсией 25. На выборке объёма 27 выборочное среднее составило 174.2. Найдите доверительный интервал для математического ожидания с надёжностью 0.95."
   ]
  },
  {
   "cell_type": "code",
   "execution_count": 26,
   "id": "52f6cc5c",
   "metadata": {},
   "outputs": [
    {
     "data": {
      "text/plain": [
       "(174.2, 5.0, 0.9622504486493763)"
      ]
     },
     "execution_count": 26,
     "metadata": {},
     "output_type": "execute_result"
    }
   ],
   "source": [
    "mean_x = 174.2\n",
    "std_x = np.sqrt(25)\n",
    "mean_std_x = std_x / np.sqrt(27)\n",
    "mean_x, std_x, mean_std_x"
   ]
  },
  {
   "cell_type": "code",
   "execution_count": 28,
   "id": "965ba537",
   "metadata": {},
   "outputs": [
    {
     "data": {
      "text/plain": [
       "(172.2220658754539, 176.17793412454608)"
      ]
     },
     "execution_count": 28,
     "metadata": {},
     "output_type": "execute_result"
    }
   ],
   "source": [
    "t_stat(mean_x, mean_std_x, 27 - 1, 0.05, 'two-sided')"
   ]
  }
 ],
 "metadata": {
  "kernelspec": {
   "display_name": "Python 3 (ipykernel)",
   "language": "python",
   "name": "python3"
  },
  "language_info": {
   "codemirror_mode": {
    "name": "ipython",
    "version": 3
   },
   "file_extension": ".py",
   "mimetype": "text/x-python",
   "name": "python",
   "nbconvert_exporter": "python",
   "pygments_lexer": "ipython3",
   "version": "3.9.7"
  }
 },
 "nbformat": 4,
 "nbformat_minor": 5
}
