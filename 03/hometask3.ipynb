{
 "cells": [
  {
   "cell_type": "markdown",
   "id": "c4c91d62",
   "metadata": {},
   "source": [
    "# Hometask 3"
   ]
  },
  {
   "cell_type": "markdown",
   "id": "e8b39e7b",
   "metadata": {},
   "source": [
    "### Задача 1\n",
    "\n",
    "Даны значения зарплат из выборки выпускников:\n",
    "\n",
    "100, 80, 75, 77, 89, 33, 45, 25, 65, 17, 30, 24, 57, 55, 70, 75, 65, 84, 90, 150.\n",
    "Без использования статистических функций вроде mean, std, var, посчитать среднее арифметическое, среднее квадратичное отклонение, смещённую и несмещённую оценки дисперсий для этой выборки.\n",
    "\n",
    "Можно затем посчитать те же значения с использованием статистических функций, чтобы проверить себя."
   ]
  },
  {
   "cell_type": "markdown",
   "id": "a2c24210",
   "metadata": {},
   "source": [
    "Решение:"
   ]
  },
  {
   "cell_type": "code",
   "execution_count": 1,
   "id": "526b8b92",
   "metadata": {},
   "outputs": [],
   "source": [
    "import numpy as np\n",
    "import pandas as pd"
   ]
  },
  {
   "cell_type": "code",
   "execution_count": 30,
   "id": "1bce4615",
   "metadata": {},
   "outputs": [
    {
     "data": {
      "text/plain": [
       "(20,)"
      ]
     },
     "execution_count": 30,
     "metadata": {},
     "output_type": "execute_result"
    }
   ],
   "source": [
    "data = pd.Series([100, 80, 75, 77, 89, 33, 45, 25, 65, 17, 30, 24, 57, 55, 70, 75, 65, 84, 90, 150])\n",
    "data.shape"
   ]
  },
  {
   "cell_type": "code",
   "execution_count": 31,
   "id": "fb71c89c",
   "metadata": {},
   "outputs": [
    {
     "data": {
      "text/plain": [
       "count     20.000000\n",
       "mean      65.300000\n",
       "std       31.624607\n",
       "min       17.000000\n",
       "25%       42.000000\n",
       "50%       67.500000\n",
       "75%       81.000000\n",
       "max      150.000000\n",
       "dtype: float64"
      ]
     },
     "execution_count": 31,
     "metadata": {},
     "output_type": "execute_result"
    }
   ],
   "source": [
    "data.describe()"
   ]
  },
  {
   "cell_type": "markdown",
   "id": "e28b27da",
   "metadata": {},
   "source": [
    "Среднее арифметическое"
   ]
  },
  {
   "cell_type": "code",
   "execution_count": 32,
   "id": "61142f1e",
   "metadata": {},
   "outputs": [
    {
     "data": {
      "text/plain": [
       "65.3"
      ]
     },
     "execution_count": 32,
     "metadata": {},
     "output_type": "execute_result"
    }
   ],
   "source": [
    "mean1 = data.sum() / data.count()\n",
    "mean1"
   ]
  },
  {
   "cell_type": "code",
   "execution_count": 33,
   "id": "2a580422",
   "metadata": {},
   "outputs": [
    {
     "data": {
      "text/plain": [
       "65.3"
      ]
     },
     "execution_count": 33,
     "metadata": {},
     "output_type": "execute_result"
    }
   ],
   "source": [
    "mean2 = data.mean()\n",
    "mean2"
   ]
  },
  {
   "cell_type": "markdown",
   "id": "f9f4be74",
   "metadata": {},
   "source": [
    "Среднеквадратичное отклонение"
   ]
  },
  {
   "cell_type": "code",
   "execution_count": 38,
   "id": "d7f0b6f4",
   "metadata": {},
   "outputs": [
    {
     "data": {
      "text/plain": [
       "30.823854398825596"
      ]
     },
     "execution_count": 38,
     "metadata": {},
     "output_type": "execute_result"
    }
   ],
   "source": [
    "std1 = np.sqrt(((data - mean1) ** 2).sum() / data.count())\n",
    "std1"
   ]
  },
  {
   "cell_type": "code",
   "execution_count": 39,
   "id": "90691c10",
   "metadata": {},
   "outputs": [
    {
     "data": {
      "text/plain": [
       "30.823854398825596"
      ]
     },
     "execution_count": 39,
     "metadata": {},
     "output_type": "execute_result"
    }
   ],
   "source": [
    "std2 = data.std(ddof=0)\n",
    "std2"
   ]
  },
  {
   "cell_type": "markdown",
   "id": "d790ff37",
   "metadata": {},
   "source": [
    "Дисперсии"
   ]
  },
  {
   "cell_type": "code",
   "execution_count": 40,
   "id": "7aabd678",
   "metadata": {},
   "outputs": [
    {
     "data": {
      "text/plain": [
       "950.11"
      ]
     },
     "execution_count": 40,
     "metadata": {},
     "output_type": "execute_result"
    }
   ],
   "source": [
    "variance11 = ((data - mean1) ** 2).sum() / data.count()\n",
    "variance11"
   ]
  },
  {
   "cell_type": "code",
   "execution_count": 41,
   "id": "1b8e5679",
   "metadata": {},
   "outputs": [
    {
     "data": {
      "text/plain": [
       "1000.1157894736842"
      ]
     },
     "execution_count": 41,
     "metadata": {},
     "output_type": "execute_result"
    }
   ],
   "source": [
    "variance12 = ((data - mean1) ** 2).sum() / (data.count() - 1)\n",
    "variance12"
   ]
  },
  {
   "cell_type": "code",
   "execution_count": 42,
   "id": "c1fa126f",
   "metadata": {},
   "outputs": [
    {
     "data": {
      "text/plain": [
       "950.11"
      ]
     },
     "execution_count": 42,
     "metadata": {},
     "output_type": "execute_result"
    }
   ],
   "source": [
    "variance21 = data.var(ddof=0)\n",
    "variance21"
   ]
  },
  {
   "cell_type": "code",
   "execution_count": 43,
   "id": "29bfff4b",
   "metadata": {},
   "outputs": [
    {
     "data": {
      "text/plain": [
       "1000.1157894736842"
      ]
     },
     "execution_count": 43,
     "metadata": {},
     "output_type": "execute_result"
    }
   ],
   "source": [
    "variance22 = data.var(ddof=1)\n",
    "variance22"
   ]
  },
  {
   "cell_type": "markdown",
   "id": "98c4655d",
   "metadata": {},
   "source": [
    "### Задача 2\n",
    "\n",
    "Для выборки из задачи 1 найти первый и третий квартили, интерквартильное расстояние. Найти выбросы в выборке, используя для этого «усы» из boxplot. В этой задаче можно использовать статистические функции."
   ]
  },
  {
   "cell_type": "markdown",
   "id": "cc410d83",
   "metadata": {},
   "source": [
    "Решение:"
   ]
  },
  {
   "cell_type": "code",
   "execution_count": 44,
   "id": "61b77c87",
   "metadata": {},
   "outputs": [
    {
     "data": {
      "text/plain": [
       "42.0"
      ]
     },
     "execution_count": 44,
     "metadata": {},
     "output_type": "execute_result"
    }
   ],
   "source": [
    "q1 = data.quantile(0.25)\n",
    "q1"
   ]
  },
  {
   "cell_type": "code",
   "execution_count": 46,
   "id": "e6ef12c8",
   "metadata": {},
   "outputs": [
    {
     "data": {
      "text/plain": [
       "81.0"
      ]
     },
     "execution_count": 46,
     "metadata": {},
     "output_type": "execute_result"
    }
   ],
   "source": [
    "q3 = data.quantile(0.75)\n",
    "q3"
   ]
  },
  {
   "cell_type": "code",
   "execution_count": 48,
   "id": "577b97ad",
   "metadata": {},
   "outputs": [
    {
     "data": {
      "text/plain": [
       "39.0"
      ]
     },
     "execution_count": 48,
     "metadata": {},
     "output_type": "execute_result"
    }
   ],
   "source": [
    "q = q3 - q1\n",
    "q"
   ]
  },
  {
   "cell_type": "markdown",
   "id": "687c6273",
   "metadata": {},
   "source": [
    "Выбросы"
   ]
  },
  {
   "cell_type": "code",
   "execution_count": 50,
   "id": "64888324",
   "metadata": {},
   "outputs": [
    {
     "data": {
      "text/plain": [
       "count     20.000000\n",
       "mean      65.300000\n",
       "std       31.624607\n",
       "min       17.000000\n",
       "25%       42.000000\n",
       "50%       67.500000\n",
       "75%       81.000000\n",
       "max      150.000000\n",
       "dtype: float64"
      ]
     },
     "execution_count": 50,
     "metadata": {},
     "output_type": "execute_result"
    }
   ],
   "source": [
    "data.describe()"
   ]
  },
  {
   "cell_type": "markdown",
   "id": "8224b958",
   "metadata": {},
   "source": [
    "Судя по среднему значению и стандарному отклонению есть как минимум один выброс и это максимальное значение."
   ]
  },
  {
   "cell_type": "code",
   "execution_count": 55,
   "id": "4001f4fa",
   "metadata": {},
   "outputs": [],
   "source": [
    "import matplotlib.pyplot as plt\n",
    "import seaborn as sns\n",
    "import warnings\n",
    "warnings.filterwarnings('ignore')"
   ]
  },
  {
   "cell_type": "code",
   "execution_count": 58,
   "id": "1a6d3cbe",
   "metadata": {},
   "outputs": [
    {
     "data": {
      "image/png": "[encoded data removed]",
      "text/plain": [
       "<Figure size 432x288 with 1 Axes>"
      ]
     },
     "metadata": {
      "needs_background": "light"
     },
     "output_type": "display_data"
    }
   ],
   "source": [
    "sns.boxplot(data)\n",
    "plt.show()"
   ]
  },
  {
   "cell_type": "markdown",
   "id": "72025ad1",
   "metadata": {},
   "source": [
    "По \"усам\" похоже, что есть один выброс."
   ]
  },
  {
   "cell_type": "markdown",
   "id": "b2d21faa",
   "metadata": {},
   "source": [
    "### Задача 3\n",
    "\n",
    "В университет на факультеты A и B поступило равное количество студентов, а на факультет C студентов поступило столько же, сколько на A и B вместе. Вероятность, что студент факультета A сдаст первую сессию, равна 0.8. Для студента факультета B эта вероятность равна 0.7, а для студента факультета C — 0.9. Студент сдал первую сессию. Определить вероятность, что он учится:\n",
    "\n",
    "На факультете A.\n",
    "\n",
    "На факультете B.\n",
    "\n",
    "На факультете C.\n",
    "\n",
    "Замечание: да, эта задача не на тему описательных статистик, но тема важная, и её стоит иногда освежать в памяти."
   ]
  },
  {
   "cell_type": "markdown",
   "id": "638cf108",
   "metadata": {},
   "source": [
    "Решение:"
   ]
  },
  {
   "cell_type": "markdown",
   "id": "e15bd637",
   "metadata": {},
   "source": [
    "Студентов на факультете А и В по $\\frac{1}{4}$, а на факультете С $\\frac{1}{2}$"
   ]
  },
  {
   "cell_type": "markdown",
   "id": "2a8bc02b",
   "metadata": {},
   "source": [
    "Тогда полная вероятность равна:"
   ]
  },
  {
   "cell_type": "code",
   "execution_count": 59,
   "id": "a190cf54",
   "metadata": {},
   "outputs": [
    {
     "data": {
      "text/plain": [
       "0.825"
      ]
     },
     "execution_count": 59,
     "metadata": {},
     "output_type": "execute_result"
    }
   ],
   "source": [
    "pa = 1/4 * 0.8 + 1/4 * 0.7 + 1/2 * 0.9\n",
    "pa"
   ]
  },
  {
   "cell_type": "markdown",
   "id": "cdd8d9e8",
   "metadata": {},
   "source": [
    "Используется формула Байеса\n",
    "\n",
    "$$P(B\\:|\\:A) = \\frac{P(B) \\cdot P(A\\:|\\:B)}{P(A)}$$"
   ]
  },
  {
   "cell_type": "code",
   "execution_count": 60,
   "id": "ebf38362",
   "metadata": {},
   "outputs": [
    {
     "data": {
      "text/plain": [
       "0.24242424242424246"
      ]
     },
     "execution_count": 60,
     "metadata": {},
     "output_type": "execute_result"
    }
   ],
   "source": [
    "# вероятность что учится на факультете А\n",
    "pbaa = 1/4 * 0.8 / pa\n",
    "pbaa"
   ]
  },
  {
   "cell_type": "code",
   "execution_count": 62,
   "id": "ea3fbcf7",
   "metadata": {},
   "outputs": [
    {
     "data": {
      "text/plain": [
       "0.21212121212121213"
      ]
     },
     "execution_count": 62,
     "metadata": {},
     "output_type": "execute_result"
    }
   ],
   "source": [
    "# вероятность что учится на факультете B\n",
    "pbaa = 1/4 * 0.7 / pa\n",
    "pbaa"
   ]
  },
  {
   "cell_type": "code",
   "execution_count": 63,
   "id": "f4da50dc",
   "metadata": {},
   "outputs": [
    {
     "data": {
      "text/plain": [
       "0.5454545454545455"
      ]
     },
     "execution_count": 63,
     "metadata": {},
     "output_type": "execute_result"
    }
   ],
   "source": [
    "# вероятность что учится на факультете C\n",
    "pbaa = 1/2 * 0.9 / pa\n",
    "pbaa"
   ]
  }
 ],
 "metadata": {
  "kernelspec": {
   "display_name": "Python 3 (ipykernel)",
   "language": "python",
   "name": "python3"
  },
  "language_info": {
   "codemirror_mode": {
    "name": "ipython",
    "version": 3
   },
   "file_extension": ".py",
   "mimetype": "text/x-python",
   "name": "python",
   "nbconvert_exporter": "python",
   "pygments_lexer": "ipython3",
   "version": "3.9.7"
  }
 },
 "nbformat": 4,
 "nbformat_minor": 5
}
